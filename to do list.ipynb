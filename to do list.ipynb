{
 "cells": [
  {
   "cell_type": "code",
   "execution_count": 2,
   "id": "926e71a2",
   "metadata": {},
   "outputs": [],
   "source": [
    "import tkinter as tk\n",
    "\n",
    "tasks = []\n",
    "\n",
    "def add_task():\n",
    "    task_text = task_entry.get()\n",
    "    if task_text:\n",
    "        tasks.append(task_text)\n",
    "        task_entry.delete(0, tk.END)\n",
    "        update_task_list()\n",
    "\n",
    "def delete_task():\n",
    "    try:\n",
    "        selected_index = task_listbox.curselection()[0]\n",
    "        tasks.pop(selected_index)\n",
    "        update_task_list()\n",
    "    except IndexError:\n",
    "        pass\n",
    "\n",
    "def update_task_list():\n",
    "    task_listbox.delete(0, tk.END)\n",
    "    for task in tasks:\n",
    "        task_listbox.insert(tk.END, task)\n",
    "\n",
    "root = tk.Tk()\n",
    "root.title(\"To-Do List\")\n",
    "root.geometry(\"500x600\")\n",
    "root.configure(bg=\"#282828\")\n",
    "\n",
    "title_label = tk.Label(root, text=\"To-Do List\", font=(\"Segoe UI\", 24, \"bold\"), fg=\"#FFFFFF\", bg=\"#282828\")\n",
    "title_label.pack(pady=20)\n",
    "\n",
    "task_entry = tk.Entry(root, width=30, font=(\"Segoe UI\", 14), fg=\"#FFFFFF\", bg=\"#3C3C3C\")\n",
    "task_entry.pack(padx=20, pady=10)\n",
    "\n",
    "add_button = tk.Button(root, text=\"Add Task\", command=add_task, font=(\"Segoe UI\", 14), bg=\"#6C63FF\", fg=\"#FFFFFF\", activebackground=\"#5A54D6\", activeforeground=\"#FFFFFF\")\n",
    "add_button.pack(padx=20, pady=10)\n",
    "\n",
    "task_listbox = tk.Listbox(root, width=40, height=15, font=(\"Segoe UI\", 14), bg=\"#3C3C3C\", fg=\"#FFFFFF\", selectbackground=\"#6C63FF\", selectforeground=\"#FFFFFF\")\n",
    "task_listbox.pack(padx=20, pady=10)\n",
    "\n",
    "delete_button = tk.Button(root, text=\"Delete Task\", command=delete_task, font=(\"Segoe UI\", 14), bg=\"#6C63FF\", fg=\"#FFFFFF\", activebackground=\"#5A54D6\", activeforeground=\"#FFFFFF\")\n",
    "delete_button.pack(padx=20, pady=10)\n",
    "\n",
    "root.mainloop()"
   ]
  },
  {
   "cell_type": "code",
   "execution_count": null,
   "id": "a4039c36",
   "metadata": {},
   "outputs": [],
   "source": []
  }
 ],
 "metadata": {
  "kernelspec": {
   "display_name": "Python 3 (ipykernel)",
   "language": "python",
   "name": "python3"
  },
  "language_info": {
   "codemirror_mode": {
    "name": "ipython",
    "version": 3
   },
   "file_extension": ".py",
   "mimetype": "text/x-python",
   "name": "python",
   "nbconvert_exporter": "python",
   "pygments_lexer": "ipython3",
   "version": "3.11.5"
  }
 },
 "nbformat": 4,
 "nbformat_minor": 5
}
